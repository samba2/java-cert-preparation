{
 "cells": [
  {
   "cell_type": "markdown",
   "id": "personal-programmer",
   "metadata": {},
   "source": [
    "- meta data\n",
    "- use existing or create own ones\n",
    "\n",
    "### Retention Policy\n",
    "- can be _retained_ (bewahrt) at different levels = _RetentionPolicy_\n",
    "    - `SOURCE`\n",
    "        - present at source code\n",
    "        - discared/ ignored by the compiler\n",
    "    - `CLASS`\n",
    "        - retained by compiler\n",
    "        - ignored by JVM\n",
    "    - `RUNTIME`\n",
    "        - retained by JVM\n",
    "        - readable at runtime and can be used via reflection\n",
    "\n",
    "### Targets\n",
    "- applicable to different targets/ _declarations_\n",
    "    - `ANNOTATION_TYPE`\n",
    "    - `CONSTRUCTOR`\n",
    "    - `FIELD`  (incl. enum constants)\n",
    "    - `LOCAL_VARIABLE`\n",
    "    - `METHOD`\n",
    "    - `MODULE`\n",
    "    - `PACKAGE`\n",
    "    - `PARAMETER`\n",
    "    - `TYPE` (class, interface (incl. annotation type) or enum \n",
    "    - `TYPE_PARAMETER`\n",
    "    - `TYPE_USE`\n"
   ]
  },
  {
   "cell_type": "code",
   "execution_count": 21,
   "id": "completed-arbor",
   "metadata": {},
   "outputs": [],
   "source": [
    "import java.lang.annotation.*;\n",
    "import java.util.stream.*;"
   ]
  },
  {
   "cell_type": "code",
   "execution_count": 42,
   "id": "complicated-belief",
   "metadata": {},
   "outputs": [
    {
     "data": {
      "text/plain": [
       "@REPL.$JShell$15G$MySimpleAnnotation(street=\"unknown\", name=\"Petra\")"
      ]
     },
     "execution_count": 42,
     "metadata": {},
     "output_type": "execute_result"
    }
   ],
   "source": [
    "@Retention(RetentionPolicy.RUNTIME)  // <-- otherwise it is not visiable at runtime (reflection)\n",
    "@interface MySimpleAnnotation {\n",
    "    String name();\n",
    "    String street() default \"unknown\";\n",
    "}\n",
    "\n",
    "@MySimpleAnnotation(name = \"Petra\")\n",
    "class MySimpleClass {}\n",
    "\n",
    "MySimpleClass.class.getAnnotations()[0]"
   ]
  },
  {
   "cell_type": "code",
   "execution_count": 45,
   "id": "surface-nothing",
   "metadata": {},
   "outputs": [
    {
     "data": {
      "text/plain": [
       "interface REPL.$JShell$15G$MySimpleAnnotation"
      ]
     },
     "execution_count": 45,
     "metadata": {},
     "output_type": "execute_result"
    }
   ],
   "source": [
    "MySimpleClass.class.getAnnotations()[0].annotationType()"
   ]
  },
  {
   "cell_type": "markdown",
   "id": "fuzzy-enforcement",
   "metadata": {},
   "source": [
    "### Repeatable Annotations"
   ]
  },
  {
   "cell_type": "code",
   "execution_count": 54,
   "id": "driving-afternoon",
   "metadata": {},
   "outputs": [
    {
     "name": "stdout",
     "output_type": "stream",
     "text": [
      "Peter\n",
      "Ronny\n",
      "Jonny\n"
     ]
    }
   ],
   "source": [
    "// definition order seems to matter\n",
    "\n",
    "@Retention(RetentionPolicy.RUNTIME)\n",
    "@Target({ElementType.TYPE})\n",
    "public @interface MyAnnotations {\n",
    "    MyAnnotation[] value();  // collect the stacked annotations\n",
    "}\n",
    "\n",
    "@Retention(RetentionPolicy.RUNTIME)\n",
    "@Target({ElementType.TYPE})\n",
    "@Repeatable(MyAnnotations.class)  // <-- allows this annotation to be used multiple times (multiple lines)\n",
    "public @interface MyAnnotation {\n",
    "    String value() default \"Peter\";  // <-- \"value\" can be used if it is the only value in the annotation,\n",
    "                                     //     then no name needs to be specified (see below)      \n",
    "}\n",
    "\n",
    "@MyAnnotations({\n",
    "    @MyAnnotation,\n",
    "    @MyAnnotation(\"Ronny\"),\n",
    "    @MyAnnotation(value=\"Jonny\")\n",
    "})\n",
    "class OtherClass {}\n",
    "\n",
    "\n",
    "Stream.of(OtherClass.class.getAnnotationsByType(MyAnnotation.class))\n",
    "    .forEach(t -> System.out.println(t.value()));"
   ]
  },
  {
   "cell_type": "markdown",
   "id": "apparent-external",
   "metadata": {},
   "source": [
    "### Attributes\n",
    "- possible types\n",
    "    - primitive\n",
    "    - String\n",
    "    - Class\n",
    "    - Enum\n",
    "    - Annotation\n",
    "    - An array of any above\n",
    "    "
   ]
  },
  {
   "cell_type": "code",
   "execution_count": null,
   "id": "incredible-chester",
   "metadata": {},
   "outputs": [],
   "source": []
  }
 ],
 "metadata": {
  "kernelspec": {
   "display_name": "Java",
   "language": "java",
   "name": "java"
  },
  "language_info": {
   "codemirror_mode": "java",
   "file_extension": ".jshell",
   "mimetype": "text/x-java-source",
   "name": "Java",
   "pygments_lexer": "java",
   "version": "11.0.10+9-Ubuntu-0ubuntu1.18.04"
  }
 },
 "nbformat": 4,
 "nbformat_minor": 5
}
