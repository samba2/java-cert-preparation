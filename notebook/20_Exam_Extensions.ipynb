{
 "cells": [
  {
   "cell_type": "markdown",
   "id": "incident-turning",
   "metadata": {},
   "source": [
    "# Type Inference with var\n",
    "\n",
    "- var is used as a local variable in a constructor, method, or initializer block. \n",
    "- var cannot be used in constructor parameters, method parameters, instance variables, or class variables. \n",
    "- var is always initialized on the same line (or statement) where it is declared. The value of a var can change but the type cannot.\n",
    "- var cannot be initialized with a null value without a type.\n",
    "- var is not permitted in a multiple-variable declaration. \n",
    "- var is a reserved type name but not a reserved word, meaning it can be used as an identifier except as a class, interface, or enum name."
   ]
  },
  {
   "cell_type": "markdown",
   "id": "terminal-bernard",
   "metadata": {},
   "source": [
    "## Does Not Work On Fields"
   ]
  },
  {
   "cell_type": "code",
   "execution_count": 1,
   "id": "exempt-canon",
   "metadata": {},
   "outputs": [
    {
     "ename": "CompilationException",
     "evalue": "",
     "output_type": "error",
     "traceback": [
      "\u001b[1m\u001b[30m|   \u001b[1m\u001b[30m    \u001b[0m\u001b[1m\u001b[30m\u001b[41mvar\u001b[0m\u001b[1m\u001b[30m a = \"not working on fields\";\u001b[0m",
      "\u001b[1m\u001b[31m'var' is not allowed here\u001b[0m",
      ""
     ]
    }
   ],
   "source": [
    "class A {\n",
    "    var a = \"not working on fields\";\n",
    "}"
   ]
  },
  {
   "cell_type": "markdown",
   "id": "becoming-portrait",
   "metadata": {},
   "source": [
    "## No Re-Assignment"
   ]
  },
  {
   "cell_type": "code",
   "execution_count": 2,
   "id": "printable-truth",
   "metadata": {},
   "outputs": [
    {
     "ename": "CompilationException",
     "evalue": "",
     "output_type": "error",
     "traceback": [
      "\u001b[1m\u001b[30m|   \u001b[1m\u001b[30ma = \u001b[0m\u001b[1m\u001b[30m\u001b[41m\"ronny\"\u001b[0m\u001b[1m\u001b[30m;\u001b[0m",
      "\u001b[1m\u001b[31mincompatible types: java.lang.String cannot be converted to int\u001b[0m",
      ""
     ]
    }
   ],
   "source": [
    "var a = 1;\n",
    "a = 2;\n",
    "a = \"ronny\";"
   ]
  },
  {
   "cell_type": "code",
   "execution_count": 3,
   "id": "comfortable-example",
   "metadata": {},
   "outputs": [
    {
     "ename": "CompilationException",
     "evalue": "",
     "output_type": "error",
     "traceback": [
      "\u001b[1m\u001b[30m|   \u001b[1m\u001b[30ma = \u001b[0m\u001b[1m\u001b[30m\u001b[41m1_000_000\u001b[0m\u001b[1m\u001b[30m;\u001b[0m",
      "\u001b[1m\u001b[31mincompatible types: possible lossy conversion from int to short\u001b[0m",
      ""
     ]
    }
   ],
   "source": [
    "var a = (short) 10;\n",
    "a = (byte) 5;\n",
    "a = 1_000_000;"
   ]
  },
  {
   "cell_type": "markdown",
   "id": "dependent-mining",
   "metadata": {},
   "source": [
    "## var needs to be initialized to infer type"
   ]
  },
  {
   "cell_type": "code",
   "execution_count": 4,
   "id": "detected-corner",
   "metadata": {},
   "outputs": [
    {
     "ename": "CompilationException",
     "evalue": "",
     "output_type": "error",
     "traceback": [
      "\u001b[1m\u001b[30m|   \u001b[1m\u001b[30m\u001b[0m\u001b[1m\u001b[30m\u001b[41mvar a;\u001b[0m\u001b[1m\u001b[30m\u001b[0m",
      "\u001b[1m\u001b[31mcannot infer type for local variable a\u001b[0m",
      "\u001b[1m\u001b[31m  (cannot use 'var' on variable without initializer)\u001b[0m",
      ""
     ]
    }
   ],
   "source": [
    "var a;\n",
    "a = 12;"
   ]
  },
  {
   "cell_type": "markdown",
   "id": "optional-pathology",
   "metadata": {},
   "source": [
    "## No compound declaration"
   ]
  },
  {
   "cell_type": "code",
   "execution_count": 8,
   "id": "commercial-minute",
   "metadata": {},
   "outputs": [
    {
     "ename": "CompilationException",
     "evalue": "",
     "output_type": "error",
     "traceback": [
      "\u001b[1m\u001b[30m|   \u001b[1m\u001b[30mvar a, \u001b[0m\u001b[1m\u001b[30m\u001b[41m\u001b[0m\u001b[1m\u001b[30mvar b = 3;\u001b[0m",
      "\u001b[1m\u001b[31m'var' is not allowed in a compound declaration\u001b[0m",
      "",
      "\u001b[1m\u001b[30m|   \u001b[1m\u001b[30mvar a, var\u001b[0m\u001b[1m\u001b[30m\u001b[41m\u001b[0m\u001b[1m\u001b[30m b = 3;\u001b[0m",
      "\u001b[1m\u001b[31m';' expected\u001b[0m",
      ""
     ]
    }
   ],
   "source": [
    "var a, var b = 3;\n"
   ]
  },
  {
   "cell_type": "markdown",
   "id": "facial-advisory",
   "metadata": {},
   "source": [
    "## No mixed compound declaration"
   ]
  },
  {
   "cell_type": "code",
   "execution_count": 9,
   "id": "bottom-living",
   "metadata": {},
   "outputs": [
    {
     "ename": "CompilationException",
     "evalue": "",
     "output_type": "error",
     "traceback": [
      "\u001b[1m\u001b[30m|   \u001b[1m\u001b[30mint a, var\u001b[0m\u001b[1m\u001b[30m\u001b[41m\u001b[0m\u001b[1m\u001b[30m b = 3;\u001b[0m",
      "\u001b[1m\u001b[31m';' expected\u001b[0m",
      ""
     ]
    }
   ],
   "source": [
    "int a, var b = 3;"
   ]
  },
  {
   "cell_type": "markdown",
   "id": "unsigned-trailer",
   "metadata": {},
   "source": [
    "## Null"
   ]
  },
  {
   "cell_type": "code",
   "execution_count": 10,
   "id": "dense-startup",
   "metadata": {},
   "outputs": [
    {
     "ename": "CompilationException",
     "evalue": "",
     "output_type": "error",
     "traceback": [
      "\u001b[1m\u001b[30m|   \u001b[1m\u001b[30mb = \u001b[0m\u001b[1m\u001b[30m\u001b[41mnull\u001b[0m\u001b[1m\u001b[30m;\u001b[0m",
      "\u001b[1m\u001b[31mincompatible types: <nulltype> cannot be converted to int\u001b[0m",
      ""
     ]
    }
   ],
   "source": [
    "// works as string is an object and can be null\n",
    "var a = \"miau\";\n",
    "a = null;\n",
    "\n",
    "// b is a primitive and can't be null\n",
    "var b = 1;\n",
    "b = null;"
   ]
  },
  {
   "cell_type": "code",
   "execution_count": 11,
   "id": "optical-coordination",
   "metadata": {},
   "outputs": [],
   "source": [
    "// works as type can be infered\n",
    "var a = (String) null;"
   ]
  },
  {
   "cell_type": "code",
   "execution_count": 13,
   "id": "cultural-product",
   "metadata": {},
   "outputs": [
    {
     "ename": "CompilationException",
     "evalue": "",
     "output_type": "error",
     "traceback": [
      "\u001b[1m\u001b[30m|   \u001b[1m\u001b[30mvoid foo(\u001b[0m\u001b[1m\u001b[30m\u001b[41mvar\u001b[0m\u001b[1m\u001b[30m a) {}\u001b[0m",
      "\u001b[1m\u001b[31m'var' is not allowed here\u001b[0m",
      ""
     ]
    }
   ],
   "source": [
    "// can't be infered\n",
    "void foo(var a) {}"
   ]
  },
  {
   "cell_type": "markdown",
   "id": "competent-delta",
   "metadata": {},
   "source": [
    "## Interesting Variable Names"
   ]
  },
  {
   "cell_type": "code",
   "execution_count": 23,
   "id": "otherwise-finger",
   "metadata": {},
   "outputs": [],
   "source": [
    "// crazy - works\n",
    "var var = \"var\";\n",
    "var $_ = 6_0_000_0f;\n",
    "var $2 = 6_00___0______0L;"
   ]
  },
  {
   "cell_type": "markdown",
   "id": "sized-royal",
   "metadata": {},
   "source": [
    "## Does Not Work"
   ]
  },
  {
   "cell_type": "code",
   "execution_count": 22,
   "id": "living-italian",
   "metadata": {},
   "outputs": [
    {
     "ename": "CompilationException",
     "evalue": "",
     "output_type": "error",
     "traceback": [
      "\u001b[1m\u001b[30m|   \u001b[1m\u001b[30mvar a = 1\u001b[0m\u001b[1m\u001b[30m\u001b[41m\u001b[0m\u001b[1m\u001b[30m_;\u001b[0m",
      "\u001b[1m\u001b[31millegal underscore\u001b[0m",
      ""
     ]
    }
   ],
   "source": [
    "var a = 1_;"
   ]
  },
  {
   "cell_type": "code",
   "execution_count": null,
   "id": "instant-fisher",
   "metadata": {},
   "outputs": [],
   "source": []
  }
 ],
 "metadata": {
  "kernelspec": {
   "display_name": "Java",
   "language": "java",
   "name": "java"
  },
  "language_info": {
   "codemirror_mode": "java",
   "file_extension": ".jshell",
   "mimetype": "text/x-java-source",
   "name": "Java",
   "pygments_lexer": "java",
   "version": "11.0.10+9-Ubuntu-0ubuntu1.18.04"
  },
  "toc": {
   "base_numbering": 1,
   "nav_menu": {},
   "number_sections": false,
   "sideBar": true,
   "skip_h1_title": false,
   "title_cell": "Table of Contents",
   "title_sidebar": "Contents",
   "toc_cell": false,
   "toc_position": {},
   "toc_section_display": true,
   "toc_window_display": true
  }
 },
 "nbformat": 4,
 "nbformat_minor": 5
}
