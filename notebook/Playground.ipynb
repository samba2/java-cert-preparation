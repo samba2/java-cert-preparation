{
 "cells": [
  {
   "cell_type": "code",
   "execution_count": 1,
   "id": "noted-handling",
   "metadata": {},
   "outputs": [
    {
     "name": "stdout",
     "output_type": "stream",
     "text": [
      "hello world\n"
     ]
    }
   ],
   "source": [
    "System.out.println(\"hello world\")"
   ]
  },
  {
   "cell_type": "code",
   "execution_count": 2,
   "id": "legal-manitoba",
   "metadata": {},
   "outputs": [
    {
     "ename": "CompilationException",
     "evalue": "",
     "output_type": "error",
     "traceback": [
      "\u001b[1m\u001b[30m|   \u001b[1m\u001b[30mvar a = \u001b[0m\u001b[1m\u001b[30m\u001b[41mStream\u001b[0m\u001b[1m\u001b[30m.of(\"1\", \"2\");\u001b[0m",
      "\u001b[1m\u001b[31mcannot find symbol\u001b[0m",
      "\u001b[1m\u001b[31m  symbol:   variable Stream\u001b[0m",
      ""
     ]
    }
   ],
   "source": [
    "var a = Stream.of(\"1\", \"2\")"
   ]
  },
  {
   "cell_type": "code",
   "execution_count": 3,
   "id": "figured-strike",
   "metadata": {},
   "outputs": [],
   "source": [
    "import java.util.stream.*"
   ]
  },
  {
   "cell_type": "code",
   "execution_count": null,
   "id": "olive-capability",
   "metadata": {},
   "outputs": [],
   "source": []
  }
 ],
 "metadata": {
  "kernelspec": {
   "display_name": "Java",
   "language": "java",
   "name": "java"
  },
  "language_info": {
   "codemirror_mode": "java",
   "file_extension": ".jshell",
   "mimetype": "text/x-java-source",
   "name": "Java",
   "pygments_lexer": "java",
   "version": "11.0.10+9-Ubuntu-0ubuntu1.18.04"
  }
 },
 "nbformat": 4,
 "nbformat_minor": 5
}
