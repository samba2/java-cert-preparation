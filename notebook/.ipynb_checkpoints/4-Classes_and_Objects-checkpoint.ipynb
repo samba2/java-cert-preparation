{
 "cells": [
  {
   "cell_type": "markdown",
   "id": "located-terrorism",
   "metadata": {},
   "source": [
    "- Java objects are instances of a class\n",
    "- reference: variable of compatible type that points to an object in memory\n",
    "- instance variables\n",
    "  - fields\n",
    "  - can be initialized with default value like `private String foo = \"bar\"`\n",
    "  - uninitalized instance variables are defauled to\n",
    "    - primitiv numeric: 0\n",
    "    - boolean: false\n",
    "    - objects: null\n",
    "- `new` operator\n",
    "  - instanciates class\n",
    "  - allocates the memory\n",
    "- objects can have multiple references\n",
    "- `this` - explicitly accessing an instance variable name instead of local variable name\n",
    "- `final`\n",
    "  - once initalized\n",
    "  - can't be changed afterwards\n",
    "  - used for constants\n",
    "  - on local variables: no re-assignment possible"
   ]
  },
  {
   "cell_type": "code",
   "execution_count": 18,
   "id": "frank-silence",
   "metadata": {},
   "outputs": [
    {
     "name": "stdout",
     "output_type": "stream",
     "text": [
      "REPL.$JShell$13G$Product@6710d99c\n",
      "REPL.$JShell$13G$Product@6710d99c\n"
     ]
    }
   ],
   "source": [
    "%maven org.projectlombok:lombok:1.18.18\n",
    "\n",
    "import lombok.Data;\n",
    "\n",
    "@Data\n",
    "class Product {\n",
    "    String name;\n",
    "    \n",
    "    public static void muh() {System.out.println(\"muh\");}\n",
    "}\n",
    "\n",
    "// objects are referenced\n",
    "Product p1 = new Product();\n",
    "Product p2 = p1;\n",
    "System.out.println(p1);\n",
    "System.out.println(p2);"
   ]
  },
  {
   "cell_type": "markdown",
   "id": "attached-system",
   "metadata": {},
   "source": [
    "## static\n",
    "- each class has its own memory context\n",
    "- `static` describes variables and methods that belong to that class context\n",
    "- do _not_ belong to particular instance\n",
    "- objects of the class share static context\n",
    "- inside `static` the `this` keyword is meaningless\n",
    "- static methods: belong to the class\n",
    "- synonym: class variables and class methods"
   ]
  },
  {
   "cell_type": "markdown",
   "id": "ultimate-venezuela",
   "metadata": {},
   "source": [
    "## Accessing static context"
   ]
  },
  {
   "cell_type": "code",
   "execution_count": 21,
   "id": "polished-economy",
   "metadata": {},
   "outputs": [
    {
     "name": "stdout",
     "output_type": "stream",
     "text": [
      "muh\n"
     ]
    }
   ],
   "source": [
    "// directly via class\n",
    "Product.muh()"
   ]
  },
  {
   "cell_type": "markdown",
   "id": "buried-details",
   "metadata": {},
   "source": [
    "- use `static {...}` initializer block to init static vars\n",
    "  - triggered _1x_ when class is loaded to memory  (think of AbstractFactcastTest)"
   ]
  },
  {
   "cell_type": "code",
   "execution_count": 29,
   "id": "agricultural-duration",
   "metadata": {},
   "outputs": [
    {
     "data": {
      "text/plain": [
       "Juergen"
      ]
     },
     "execution_count": 29,
     "metadata": {},
     "output_type": "execute_result"
    }
   ],
   "source": [
    "class StaticProduct {\n",
    "    private static String name;\n",
    "    static {\n",
    "        name = \"Juergen\";\n",
    "    }\n",
    "    \n",
    "    public static void setName(String name) {\n",
    "        StaticProduct.name=name;\n",
    "    }\n",
    "    \n",
    "    public static String getName() {\n",
    "        return name;\n",
    "    }\n",
    "}\n",
    "\n",
    "StaticProduct.getName();"
   ]
  },
  {
   "cell_type": "code",
   "execution_count": 30,
   "id": "center-penetration",
   "metadata": {},
   "outputs": [
    {
     "data": {
      "text/plain": [
       "Petra"
      ]
     },
     "execution_count": 30,
     "metadata": {},
     "output_type": "execute_result"
    }
   ],
   "source": [
    "StaticProduct.setName(\"Petra\");\n",
    "StaticProduct.getName();"
   ]
  },
  {
   "cell_type": "markdown",
   "id": "executed-prescription",
   "metadata": {},
   "source": [
    "- static methods can also be accessed via the instance\n",
    "- still, it's the same static context used"
   ]
  },
  {
   "cell_type": "code",
   "execution_count": 31,
   "id": "agreed-atlantic",
   "metadata": {},
   "outputs": [
    {
     "data": {
      "text/plain": [
       "Petra"
      ]
     },
     "execution_count": 31,
     "metadata": {},
     "output_type": "execute_result"
    }
   ],
   "source": [
    "var p1 = new StaticProduct();\n",
    "p1.getName();"
   ]
  },
  {
   "cell_type": "code",
   "execution_count": 32,
   "id": "conservative-chicago",
   "metadata": {},
   "outputs": [
    {
     "data": {
      "text/plain": [
       "Jonny"
      ]
     },
     "execution_count": 32,
     "metadata": {},
     "output_type": "execute_result"
    }
   ],
   "source": [
    "p1.setName(\"Jonny\");\n",
    "p1.getName();"
   ]
  },
  {
   "cell_type": "markdown",
   "id": "solid-filename",
   "metadata": {},
   "source": [
    "## Constant"
   ]
  },
  {
   "cell_type": "code",
   "execution_count": 33,
   "id": "danish-georgia",
   "metadata": {},
   "outputs": [
    {
     "data": {
      "text/plain": [
       "BAR"
      ]
     },
     "execution_count": 33,
     "metadata": {},
     "output_type": "execute_result"
    }
   ],
   "source": [
    "class Foo {\n",
    "    public static final String MY_FOO = \"BAR\";\n",
    "}\n",
    "\n",
    "Foo.MY_FOO"
   ]
  },
  {
   "cell_type": "markdown",
   "id": "interested-nightlife",
   "metadata": {},
   "source": [
    "- you could also have constants per instance (via `final`) -> instance specific\n",
    "- static constants are shared between the instances (only exist once)"
   ]
  },
  {
   "cell_type": "markdown",
   "id": "distant-deadline",
   "metadata": {},
   "source": [
    "## Other Static contexts\n",
    "- main\n",
    "- Java Math operations are static\n",
    "- Factory methods are static and create a new instance of a class\n"
   ]
  },
  {
   "cell_type": "markdown",
   "id": "rational-practitioner",
   "metadata": {},
   "source": [
    "## Static import\n",
    "\n",
    "- syntax: `import static java.package.of.static.method;`\n",
    "- use the imported method/ constant as if it is local"
   ]
  },
  {
   "cell_type": "markdown",
   "id": "random-campus",
   "metadata": {},
   "source": [
    "## Method Overloading\n",
    "- need to be the same\n",
    "  - method name\n",
    "  - return type !\n",
    "- parameters differ"
   ]
  },
  {
   "cell_type": "markdown",
   "id": "spoken-cartridge",
   "metadata": {},
   "source": [
    "## vargs"
   ]
  },
  {
   "cell_type": "code",
   "execution_count": 50,
   "id": "consolidated-companion",
   "metadata": {},
   "outputs": [
    {
     "name": "stdout",
     "output_type": "stream",
     "text": [
      "RONNY\n",
      "PETRA\n",
      "KLAUS\n"
     ]
    }
   ],
   "source": [
    "// names is a String[]\n",
    "void shoutNames(String... names) {\n",
    "    for (String name : names) {\n",
    "        System.out.println(name.toUpperCase());\n",
    "    }\n",
    "}\n",
    "\n",
    "shoutNames(\"Ronny\", \"Petra\", \"Klaus\")"
   ]
  },
  {
   "cell_type": "code",
   "execution_count": null,
   "id": "static-training",
   "metadata": {},
   "outputs": [],
   "source": []
  }
 ],
 "metadata": {
  "kernelspec": {
   "display_name": "Java",
   "language": "java",
   "name": "java"
  },
  "language_info": {
   "codemirror_mode": "java",
   "file_extension": ".jshell",
   "mimetype": "text/x-java-source",
   "name": "Java",
   "pygments_lexer": "java",
   "version": "11.0.10+9-Ubuntu-0ubuntu1.18.04"
  }
 },
 "nbformat": 4,
 "nbformat_minor": 5
}
