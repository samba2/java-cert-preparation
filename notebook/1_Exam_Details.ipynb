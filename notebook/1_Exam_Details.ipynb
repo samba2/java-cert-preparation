{
 "cells": [
  {
   "cell_type": "markdown",
   "id": "dominant-shaft",
   "metadata": {},
   "source": [
    "- 1Z0-819 - https://education.oracle.com/java-se-11-developer/pexam_1Z0-819\n",
    "- Programming Complete Course - https://learn.oracle.com/ols/course/java-se-11-programming-complete/82508/85200\n",
    "- retake after 14 days\n",
    "- https://enthuware.com/  - mock questions for 10 $"
   ]
  },
  {
   "cell_type": "code",
   "execution_count": null,
   "id": "amino-worker",
   "metadata": {},
   "outputs": [],
   "source": []
  }
 ],
 "metadata": {
  "kernelspec": {
   "display_name": "Java",
   "language": "java",
   "name": "java"
  },
  "language_info": {
   "codemirror_mode": "java",
   "file_extension": ".jshell",
   "mimetype": "text/x-java-source",
   "name": "Java",
   "pygments_lexer": "java",
   "version": "11.0.10+9-Ubuntu-0ubuntu1.18.04"
  }
 },
 "nbformat": 4,
 "nbformat_minor": 5
}
